{
 "cells": [
  {
   "cell_type": "code",
   "execution_count": 21,
   "metadata": {},
   "outputs": [],
   "source": [
    "import pandas as pd\n",
    "import numpy as np\n",
    "AAA=pd.read_csv(\"..//cleaned//AAA-Bond_quarterly.csv\")\n",
    "BAA=pd.read_csv(\"..//cleaned//BAA-Bond_quarterly.csv\")\n",
    "CPI=pd.read_csv(\"..//cleaned//CPI_quarterly.csv\")\n",
    "DFF=pd.read_csv(\"..//cleaned//DFF_quarterly.csv\")\n",
    "DSG=pd.read_csv(\"..//cleaned//DSG(2year).csv\")\n",
    "AAA['Date3'] = pd.to_datetime(AAA['Date3'])\n",
    "BAA['Date3'] = pd.to_datetime(BAA['Date3'])\n",
    "CPI['Date3'] = pd.to_datetime(CPI['Date3'])\n",
    "DFF['Date3'] = pd.to_datetime(DFF['Date3'])\n",
    "DSG['Date3'] = pd.to_datetime(DSG['Date3'])\n",
    "mergeddata = pd.merge(AAA, BAA, on='Date3', how='inner')\n",
    "mergeddata2 = pd.merge(mergeddata, CPI, on='Date3', how='inner')\n",
    "mergeddata3 = pd.merge(mergeddata2, CPI, on='Date3', how='inner')\n",
    "mergeddata4 = pd.merge(mergeddata3, CPI, on='Date3', how='inner')\n"
   ]
  }
 ],
 "metadata": {
  "kernelspec": {
   "display_name": "Python 3",
   "language": "python",
   "name": "python3"
  },
  "language_info": {
   "codemirror_mode": {
    "name": "ipython",
    "version": 3
   },
   "file_extension": ".py",
   "mimetype": "text/x-python",
   "name": "python",
   "nbconvert_exporter": "python",
   "pygments_lexer": "ipython3",
   "version": "3.13.1"
  }
 },
 "nbformat": 4,
 "nbformat_minor": 2
}
