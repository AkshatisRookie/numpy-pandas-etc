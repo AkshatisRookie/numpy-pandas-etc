{
 "cells": [
  {
   "cell_type": "code",
   "execution_count": 30,
   "metadata": {},
   "outputs": [
    {
     "ename": "SyntaxError",
     "evalue": "invalid syntax (3437901939.py, line 10)",
     "output_type": "error",
     "traceback": [
      "\u001b[1;36m  Cell \u001b[1;32mIn[30], line 10\u001b[1;36m\u001b[0m\n\u001b[1;33m    DGS30=\u001b[0m\n\u001b[1;37m          ^\u001b[0m\n\u001b[1;31mSyntaxError\u001b[0m\u001b[1;31m:\u001b[0m invalid syntax\n"
     ]
    }
   ],
   "source": [
    "import pandas as pd\n",
    "import numpy as np\n",
    "AAA=pd.read_csv(\"..//cleaned//AAA-Bond_quarterly.csv\")\n",
    "BAA=pd.read_csv(\"..//cleaned//BAA-Bond_quarterly.csv\")\n",
    "CPI=pd.read_csv(\"..//cleaned//CPI_quarterly.csv\")\n",
    "DFF=pd.read_csv(\"..//cleaned//DFF_quarterly.csv\")\n",
    "DGS2=pd.read_csv(\"..//cleaned//DSG(2year).csv\")\n",
    "DGS3=pd.read_csv(\"..//cleaned//DSG(monthly).csv\")\n",
    "DGS10=pd.read_csv(\"..//cleaned//DSG(10 year).csv\")\n",
    "DGS30=pd.read_csv(\"..//cleaned//DSG(30 year).csv\")\n",
    "EX_RATE_EUR=pd.read_csv(\"..//cleaned//ex_rate_eur.csv\")\n",
    "EX_RATE_USD=\n",
    "EX_RATE_RUP=\n",
    "GDP=\n",
    "\n",
    "AAA['Date3'] = pd.to_datetime(AAA['Date3'])\n",
    "BAA['Date3'] = pd.to_datetime(BAA['Date3'])\n",
    "CPI['Date3'] = pd.to_datetime(CPI['Date3'])\n",
    "DFF['Date3'] = pd.to_datetime(DFF['Date3'])\n",
    "DGS2['Date3'] = pd.to_datetime(DGS2['Date3'])\n",
    "DGS3['Date3'] = pd.to_datetime(DGS3['Date3'])\n",
    "DGS10['Date3'] = pd.to_datetime(DGS10['Date3'])\n",
    "DGS30['Date3'] = pd.to_datetime(DGS30['Date3'])\n",
    "EX_RATE_EUR['Date3'] = pd.to_datetime(EX_RATE_EUR['Date3'])\n",
    "\n",
    "mergeddata = pd.merge(AAA, BAA, on='Date3', how='inner')\n",
    "mergeddata2 = pd.merge(mergeddata, CPI, on='Date3', how='inner')\n",
    "mergeddata3 = pd.merge(mergeddata2, DFF, on='Date3', how='inner')\n",
    "mergeddata4 = pd.merge(mergeddata3, DGS2, on='Date3', how='inner')\n",
    "mergeddata5 = pd.merge(mergeddata4, DGS3, on='Date3', how='inner')\n",
    "mergeddata6 = pd.merge(mergeddata5, DGS10, on='Date3', how='inner')\n",
    "mergeddata7 = pd.merge(mergeddata6, DGS30, on='Date3', how='inner')\n",
    "mergeddata8 = pd.merge(mergeddata7, EX_RATE_EUR, on='Date3', how='inner')\n"
   ]
  }
 ],
 "metadata": {
  "kernelspec": {
   "display_name": "Python 3",
   "language": "python",
   "name": "python3"
  },
  "language_info": {
   "codemirror_mode": {
    "name": "ipython",
    "version": 3
   },
   "file_extension": ".py",
   "mimetype": "text/x-python",
   "name": "python",
   "nbconvert_exporter": "python",
   "pygments_lexer": "ipython3",
   "version": "3.13.1"
  }
 },
 "nbformat": 4,
 "nbformat_minor": 2
}
