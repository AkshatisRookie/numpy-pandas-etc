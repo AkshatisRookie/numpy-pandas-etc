{
 "cells": [
  {
   "cell_type": "code",
   "execution_count": 1,
   "metadata": {},
   "outputs": [
    {
     "name": "stdout",
     "output_type": "stream",
     "text": [
      "Index(['Date3', 'DSG(monthly)'], dtype='object')\n"
     ]
    }
   ],
   "source": [
    "import pandas as pd\n",
    "import numpy as np\n",
    "data2 = pd.read_csv(\"..///raw//DGS3MO(monthly).csv\",header=None) #relative path represented as ..\n",
    "data2.columns=['Date3','DSG(monthly)']\n",
    "print(data2.columns)"
   ]
  },
  {
   "cell_type": "code",
   "execution_count": 2,
   "metadata": {},
   "outputs": [
    {
     "data": {
      "text/html": [
       "<div>\n",
       "<style scoped>\n",
       "    .dataframe tbody tr th:only-of-type {\n",
       "        vertical-align: middle;\n",
       "    }\n",
       "\n",
       "    .dataframe tbody tr th {\n",
       "        vertical-align: top;\n",
       "    }\n",
       "\n",
       "    .dataframe thead th {\n",
       "        text-align: right;\n",
       "    }\n",
       "</style>\n",
       "<table border=\"1\" class=\"dataframe\">\n",
       "  <thead>\n",
       "    <tr style=\"text-align: right;\">\n",
       "      <th></th>\n",
       "      <th>Date3</th>\n",
       "      <th>DSG(monthly)</th>\n",
       "    </tr>\n",
       "  </thead>\n",
       "  <tbody>\n",
       "    <tr>\n",
       "      <th>1</th>\n",
       "      <td>1981-09-01</td>\n",
       "      <td>17.01</td>\n",
       "    </tr>\n",
       "    <tr>\n",
       "      <th>2</th>\n",
       "      <td>1981-09-02</td>\n",
       "      <td>16.65</td>\n",
       "    </tr>\n",
       "    <tr>\n",
       "      <th>3</th>\n",
       "      <td>1981-09-03</td>\n",
       "      <td>16.96</td>\n",
       "    </tr>\n",
       "    <tr>\n",
       "      <th>4</th>\n",
       "      <td>1981-09-04</td>\n",
       "      <td>16.64</td>\n",
       "    </tr>\n",
       "    <tr>\n",
       "      <th>5</th>\n",
       "      <td>1981-09-07</td>\n",
       "      <td>NaN</td>\n",
       "    </tr>\n",
       "    <tr>\n",
       "      <th>...</th>\n",
       "      <td>...</td>\n",
       "      <td>...</td>\n",
       "    </tr>\n",
       "    <tr>\n",
       "      <th>11294</th>\n",
       "      <td>2024-12-13</td>\n",
       "      <td>4.34</td>\n",
       "    </tr>\n",
       "    <tr>\n",
       "      <th>11295</th>\n",
       "      <td>2024-12-16</td>\n",
       "      <td>4.37</td>\n",
       "    </tr>\n",
       "    <tr>\n",
       "      <th>11296</th>\n",
       "      <td>2024-12-17</td>\n",
       "      <td>4.38</td>\n",
       "    </tr>\n",
       "    <tr>\n",
       "      <th>11297</th>\n",
       "      <td>2024-12-18</td>\n",
       "      <td>4.36</td>\n",
       "    </tr>\n",
       "    <tr>\n",
       "      <th>11298</th>\n",
       "      <td>2024-12-19</td>\n",
       "      <td>4.35</td>\n",
       "    </tr>\n",
       "  </tbody>\n",
       "</table>\n",
       "<p>11298 rows × 2 columns</p>\n",
       "</div>"
      ],
      "text/plain": [
       "            Date3 DSG(monthly)\n",
       "1      1981-09-01        17.01\n",
       "2      1981-09-02        16.65\n",
       "3      1981-09-03        16.96\n",
       "4      1981-09-04        16.64\n",
       "5      1981-09-07          NaN\n",
       "...           ...          ...\n",
       "11294  2024-12-13         4.34\n",
       "11295  2024-12-16         4.37\n",
       "11296  2024-12-17         4.38\n",
       "11297  2024-12-18         4.36\n",
       "11298  2024-12-19         4.35\n",
       "\n",
       "[11298 rows x 2 columns]"
      ]
     },
     "execution_count": 2,
     "metadata": {},
     "output_type": "execute_result"
    }
   ],
   "source": [
    "#removed the uncessary 0th index row\n",
    "data2=data2.drop(index=[0])\n",
    "data2"
   ]
  },
  {
   "cell_type": "code",
   "execution_count": 3,
   "metadata": {},
   "outputs": [
    {
     "name": "stdout",
     "output_type": "stream",
     "text": [
      "           index DSG(monthly)\n",
      "0     1990-01-01         7.83\n",
      "1     1990-01-02         7.83\n",
      "2     1990-01-03         7.89\n",
      "3     1990-01-04         7.84\n",
      "4     1990-01-05         7.79\n",
      "...          ...          ...\n",
      "12779 2024-12-27         4.35\n",
      "12780 2024-12-28         4.35\n",
      "12781 2024-12-29         4.35\n",
      "12782 2024-12-30         4.35\n",
      "12783 2024-12-31         4.35\n",
      "\n",
      "[12784 rows x 2 columns]\n"
     ]
    },
    {
     "name": "stderr",
     "output_type": "stream",
     "text": [
      "C:\\Users\\aksha\\AppData\\Local\\Temp\\ipykernel_948\\3320695583.py:6: FutureWarning: Series.interpolate with object dtype is deprecated and will raise in a future version. Call obj.infer_objects(copy=False) before interpolating instead.\n",
      "  data2interpolate['DSG(monthly)'] = data2interpolate['DSG(monthly)'].interpolate(method='time', limit_direction='both').fillna(method='ffill').fillna(method='bfill')\n",
      "C:\\Users\\aksha\\AppData\\Local\\Temp\\ipykernel_948\\3320695583.py:6: FutureWarning: Series.fillna with 'method' is deprecated and will raise in a future version. Use obj.ffill() or obj.bfill() instead.\n",
      "  data2interpolate['DSG(monthly)'] = data2interpolate['DSG(monthly)'].interpolate(method='time', limit_direction='both').fillna(method='ffill').fillna(method='bfill')\n"
     ]
    }
   ],
   "source": [
    "data2['Date3'] = pd.to_datetime(data2['Date3'])\n",
    "data2=data2.set_index('Date3')\n",
    "date_range = pd.date_range(start='1990-01-01', end='2024-12-31', freq='D')\n",
    "data2new = data2.reindex(date_range)\n",
    "data2interpolate = data2new.copy()\n",
    "data2interpolate['DSG(monthly)'] = data2interpolate['DSG(monthly)'].interpolate(method='time', limit_direction='both').fillna(method='ffill').fillna(method='bfill')\n",
    "data2interpolate.reset_index(inplace=True)  \n",
    "print(data2interpolate)"
   ]
  },
  {
   "cell_type": "code",
   "execution_count": 5,
   "metadata": {},
   "outputs": [],
   "source": [
    "data2interpolate.to_csv(\"DSG(monthly).csv\", index=False)"
   ]
  },
  {
   "cell_type": "code",
   "execution_count": 6,
   "metadata": {},
   "outputs": [
    {
     "data": {
      "text/html": [
       "<div>\n",
       "<style scoped>\n",
       "    .dataframe tbody tr th:only-of-type {\n",
       "        vertical-align: middle;\n",
       "    }\n",
       "\n",
       "    .dataframe tbody tr th {\n",
       "        vertical-align: top;\n",
       "    }\n",
       "\n",
       "    .dataframe thead th {\n",
       "        text-align: right;\n",
       "    }\n",
       "</style>\n",
       "<table border=\"1\" class=\"dataframe\">\n",
       "  <thead>\n",
       "    <tr style=\"text-align: right;\">\n",
       "      <th></th>\n",
       "      <th>index</th>\n",
       "      <th>DSG(monthly)</th>\n",
       "    </tr>\n",
       "  </thead>\n",
       "  <tbody>\n",
       "    <tr>\n",
       "      <th>0</th>\n",
       "      <td>1990-01-01</td>\n",
       "      <td>7.83</td>\n",
       "    </tr>\n",
       "    <tr>\n",
       "      <th>1</th>\n",
       "      <td>1990-01-02</td>\n",
       "      <td>7.83</td>\n",
       "    </tr>\n",
       "    <tr>\n",
       "      <th>2</th>\n",
       "      <td>1990-01-03</td>\n",
       "      <td>7.89</td>\n",
       "    </tr>\n",
       "    <tr>\n",
       "      <th>3</th>\n",
       "      <td>1990-01-04</td>\n",
       "      <td>7.84</td>\n",
       "    </tr>\n",
       "    <tr>\n",
       "      <th>4</th>\n",
       "      <td>1990-01-05</td>\n",
       "      <td>7.79</td>\n",
       "    </tr>\n",
       "    <tr>\n",
       "      <th>...</th>\n",
       "      <td>...</td>\n",
       "      <td>...</td>\n",
       "    </tr>\n",
       "    <tr>\n",
       "      <th>12779</th>\n",
       "      <td>2024-12-27</td>\n",
       "      <td>4.35</td>\n",
       "    </tr>\n",
       "    <tr>\n",
       "      <th>12780</th>\n",
       "      <td>2024-12-28</td>\n",
       "      <td>4.35</td>\n",
       "    </tr>\n",
       "    <tr>\n",
       "      <th>12781</th>\n",
       "      <td>2024-12-29</td>\n",
       "      <td>4.35</td>\n",
       "    </tr>\n",
       "    <tr>\n",
       "      <th>12782</th>\n",
       "      <td>2024-12-30</td>\n",
       "      <td>4.35</td>\n",
       "    </tr>\n",
       "    <tr>\n",
       "      <th>12783</th>\n",
       "      <td>2024-12-31</td>\n",
       "      <td>4.35</td>\n",
       "    </tr>\n",
       "  </tbody>\n",
       "</table>\n",
       "<p>12784 rows × 2 columns</p>\n",
       "</div>"
      ],
      "text/plain": [
       "           index DSG(monthly)\n",
       "0     1990-01-01         7.83\n",
       "1     1990-01-02         7.83\n",
       "2     1990-01-03         7.89\n",
       "3     1990-01-04         7.84\n",
       "4     1990-01-05         7.79\n",
       "...          ...          ...\n",
       "12779 2024-12-27         4.35\n",
       "12780 2024-12-28         4.35\n",
       "12781 2024-12-29         4.35\n",
       "12782 2024-12-30         4.35\n",
       "12783 2024-12-31         4.35\n",
       "\n",
       "[12784 rows x 2 columns]"
      ]
     },
     "execution_count": 6,
     "metadata": {},
     "output_type": "execute_result"
    }
   ],
   "source": [
    "data2interpolate"
   ]
  }
 ],
 "metadata": {
  "kernelspec": {
   "display_name": "Python 3",
   "language": "python",
   "name": "python3"
  },
  "language_info": {
   "codemirror_mode": {
    "name": "ipython",
    "version": 3
   },
   "file_extension": ".py",
   "mimetype": "text/x-python",
   "name": "python",
   "nbconvert_exporter": "python",
   "pygments_lexer": "ipython3",
   "version": "3.13.1"
  }
 },
 "nbformat": 4,
 "nbformat_minor": 2
}
