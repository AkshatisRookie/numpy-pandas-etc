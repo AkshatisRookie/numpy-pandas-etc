{
 "cells": [
  {
   "cell_type": "code",
   "execution_count": 5,
   "metadata": {},
   "outputs": [
    {
     "name": "stdout",
     "output_type": "stream",
     "text": [
      "Index(['Date3', 'Exchange-Rub'], dtype='object')\n"
     ]
    }
   ],
   "source": [
    "import pandas as pd\n",
    "import numpy as np\n",
    "data2 = pd.read_csv(\"..//raw//ex_rate_usd_rub.csv\",header=None) #relative path represented as ..\n",
    "data2.columns=['Date3','Exchange-Rub']\n",
    "print(data2.columns)\n"
   ]
  },
  {
   "cell_type": "code",
   "execution_count": 6,
   "metadata": {},
   "outputs": [
    {
     "data": {
      "text/html": [
       "<div>\n",
       "<style scoped>\n",
       "    .dataframe tbody tr th:only-of-type {\n",
       "        vertical-align: middle;\n",
       "    }\n",
       "\n",
       "    .dataframe tbody tr th {\n",
       "        vertical-align: top;\n",
       "    }\n",
       "\n",
       "    .dataframe thead th {\n",
       "        text-align: right;\n",
       "    }\n",
       "</style>\n",
       "<table border=\"1\" class=\"dataframe\">\n",
       "  <thead>\n",
       "    <tr style=\"text-align: right;\">\n",
       "      <th></th>\n",
       "      <th>Date3</th>\n",
       "      <th>Exchange-Rub</th>\n",
       "    </tr>\n",
       "  </thead>\n",
       "  <tbody>\n",
       "    <tr>\n",
       "      <th>1</th>\n",
       "      <td>1992-06-01</td>\n",
       "      <td>0.1380000000000000</td>\n",
       "    </tr>\n",
       "    <tr>\n",
       "      <th>2</th>\n",
       "      <td>1992-07-01</td>\n",
       "      <td>0.1680000000000000</td>\n",
       "    </tr>\n",
       "    <tr>\n",
       "      <th>3</th>\n",
       "      <td>1992-08-01</td>\n",
       "      <td>0.2170000000000000</td>\n",
       "    </tr>\n",
       "    <tr>\n",
       "      <th>4</th>\n",
       "      <td>1992-09-01</td>\n",
       "      <td>0.3440000000000000</td>\n",
       "    </tr>\n",
       "    <tr>\n",
       "      <th>5</th>\n",
       "      <td>1992-10-01</td>\n",
       "      <td>0.4240000000000000</td>\n",
       "    </tr>\n",
       "    <tr>\n",
       "      <th>...</th>\n",
       "      <td>...</td>\n",
       "      <td>...</td>\n",
       "    </tr>\n",
       "    <tr>\n",
       "      <th>381</th>\n",
       "      <td>2024-02-01</td>\n",
       "      <td>91.6102999999999952</td>\n",
       "    </tr>\n",
       "    <tr>\n",
       "      <th>382</th>\n",
       "      <td>2024-03-01</td>\n",
       "      <td>91.6941000000000059</td>\n",
       "    </tr>\n",
       "    <tr>\n",
       "      <th>383</th>\n",
       "      <td>2024-04-01</td>\n",
       "      <td>92.8855999999999966</td>\n",
       "    </tr>\n",
       "    <tr>\n",
       "      <th>384</th>\n",
       "      <td>2024-05-01</td>\n",
       "      <td>90.8704000000000036</td>\n",
       "    </tr>\n",
       "    <tr>\n",
       "      <th>385</th>\n",
       "      <td>2024-06-01</td>\n",
       "      <td>88.0459000000000032</td>\n",
       "    </tr>\n",
       "  </tbody>\n",
       "</table>\n",
       "<p>385 rows × 2 columns</p>\n",
       "</div>"
      ],
      "text/plain": [
       "          Date3         Exchange-Rub\n",
       "1    1992-06-01   0.1380000000000000\n",
       "2    1992-07-01   0.1680000000000000\n",
       "3    1992-08-01   0.2170000000000000\n",
       "4    1992-09-01   0.3440000000000000\n",
       "5    1992-10-01   0.4240000000000000\n",
       "..          ...                  ...\n",
       "381  2024-02-01  91.6102999999999952\n",
       "382  2024-03-01  91.6941000000000059\n",
       "383  2024-04-01  92.8855999999999966\n",
       "384  2024-05-01  90.8704000000000036\n",
       "385  2024-06-01  88.0459000000000032\n",
       "\n",
       "[385 rows x 2 columns]"
      ]
     },
     "execution_count": 6,
     "metadata": {},
     "output_type": "execute_result"
    }
   ],
   "source": [
    "#removed the uncessary 0th index row\n",
    "data2=data2.drop(index=[0])\n",
    "data2"
   ]
  },
  {
   "cell_type": "code",
   "execution_count": 7,
   "metadata": {},
   "outputs": [
    {
     "name": "stdout",
     "output_type": "stream",
     "text": [
      "           index         Exchange-Rub\n",
      "0     1990-01-01   0.1380000000000000\n",
      "1     1990-01-02   0.1380000000000000\n",
      "2     1990-01-03   0.1380000000000000\n",
      "3     1990-01-04   0.1380000000000000\n",
      "4     1990-01-05   0.1380000000000000\n",
      "...          ...                  ...\n",
      "12779 2024-12-27  88.0459000000000032\n",
      "12780 2024-12-28  88.0459000000000032\n",
      "12781 2024-12-29  88.0459000000000032\n",
      "12782 2024-12-30  88.0459000000000032\n",
      "12783 2024-12-31  88.0459000000000032\n",
      "\n",
      "[12784 rows x 2 columns]\n"
     ]
    },
    {
     "name": "stderr",
     "output_type": "stream",
     "text": [
      "C:\\Users\\aksha\\AppData\\Local\\Temp\\ipykernel_21096\\434276103.py:6: FutureWarning: Series.interpolate with object dtype is deprecated and will raise in a future version. Call obj.infer_objects(copy=False) before interpolating instead.\n",
      "  data2interpolate['Exchange-Rub'] = data2interpolate['Exchange-Rub'].interpolate(method='time', limit_direction='both').fillna(method='ffill').fillna(method='bfill')\n",
      "C:\\Users\\aksha\\AppData\\Local\\Temp\\ipykernel_21096\\434276103.py:6: FutureWarning: Series.fillna with 'method' is deprecated and will raise in a future version. Use obj.ffill() or obj.bfill() instead.\n",
      "  data2interpolate['Exchange-Rub'] = data2interpolate['Exchange-Rub'].interpolate(method='time', limit_direction='both').fillna(method='ffill').fillna(method='bfill')\n"
     ]
    }
   ],
   "source": [
    "data2['Date3'] = pd.to_datetime(data2['Date3'])\n",
    "data2=data2.set_index('Date3')\n",
    "date_range = pd.date_range(start='1990-01-01', end='2024-12-31', freq='D')\n",
    "data2new = data2.reindex(date_range)\n",
    "data2interpolate = data2new.copy()\n",
    "data2interpolate['Exchange-Rub'] = data2interpolate['Exchange-Rub'].interpolate(method='time', limit_direction='both').fillna(method='ffill').fillna(method='bfill')\n",
    "data2interpolate.reset_index(inplace=True)  \n",
    "print(data2interpolate)"
   ]
  },
  {
   "cell_type": "code",
   "execution_count": 8,
   "metadata": {},
   "outputs": [],
   "source": [
    "data2interpolate.to_csv(\"ex_rate_rub.csv\", index=False)"
   ]
  },
  {
   "cell_type": "code",
   "execution_count": 9,
   "metadata": {},
   "outputs": [
    {
     "data": {
      "text/html": [
       "<div>\n",
       "<style scoped>\n",
       "    .dataframe tbody tr th:only-of-type {\n",
       "        vertical-align: middle;\n",
       "    }\n",
       "\n",
       "    .dataframe tbody tr th {\n",
       "        vertical-align: top;\n",
       "    }\n",
       "\n",
       "    .dataframe thead th {\n",
       "        text-align: right;\n",
       "    }\n",
       "</style>\n",
       "<table border=\"1\" class=\"dataframe\">\n",
       "  <thead>\n",
       "    <tr style=\"text-align: right;\">\n",
       "      <th></th>\n",
       "      <th>index</th>\n",
       "      <th>Exchange-Rub</th>\n",
       "    </tr>\n",
       "  </thead>\n",
       "  <tbody>\n",
       "    <tr>\n",
       "      <th>0</th>\n",
       "      <td>1990-01-01</td>\n",
       "      <td>0.1380000000000000</td>\n",
       "    </tr>\n",
       "    <tr>\n",
       "      <th>1</th>\n",
       "      <td>1990-01-02</td>\n",
       "      <td>0.1380000000000000</td>\n",
       "    </tr>\n",
       "    <tr>\n",
       "      <th>2</th>\n",
       "      <td>1990-01-03</td>\n",
       "      <td>0.1380000000000000</td>\n",
       "    </tr>\n",
       "    <tr>\n",
       "      <th>3</th>\n",
       "      <td>1990-01-04</td>\n",
       "      <td>0.1380000000000000</td>\n",
       "    </tr>\n",
       "    <tr>\n",
       "      <th>4</th>\n",
       "      <td>1990-01-05</td>\n",
       "      <td>0.1380000000000000</td>\n",
       "    </tr>\n",
       "    <tr>\n",
       "      <th>...</th>\n",
       "      <td>...</td>\n",
       "      <td>...</td>\n",
       "    </tr>\n",
       "    <tr>\n",
       "      <th>12779</th>\n",
       "      <td>2024-12-27</td>\n",
       "      <td>88.0459000000000032</td>\n",
       "    </tr>\n",
       "    <tr>\n",
       "      <th>12780</th>\n",
       "      <td>2024-12-28</td>\n",
       "      <td>88.0459000000000032</td>\n",
       "    </tr>\n",
       "    <tr>\n",
       "      <th>12781</th>\n",
       "      <td>2024-12-29</td>\n",
       "      <td>88.0459000000000032</td>\n",
       "    </tr>\n",
       "    <tr>\n",
       "      <th>12782</th>\n",
       "      <td>2024-12-30</td>\n",
       "      <td>88.0459000000000032</td>\n",
       "    </tr>\n",
       "    <tr>\n",
       "      <th>12783</th>\n",
       "      <td>2024-12-31</td>\n",
       "      <td>88.0459000000000032</td>\n",
       "    </tr>\n",
       "  </tbody>\n",
       "</table>\n",
       "<p>12784 rows × 2 columns</p>\n",
       "</div>"
      ],
      "text/plain": [
       "           index         Exchange-Rub\n",
       "0     1990-01-01   0.1380000000000000\n",
       "1     1990-01-02   0.1380000000000000\n",
       "2     1990-01-03   0.1380000000000000\n",
       "3     1990-01-04   0.1380000000000000\n",
       "4     1990-01-05   0.1380000000000000\n",
       "...          ...                  ...\n",
       "12779 2024-12-27  88.0459000000000032\n",
       "12780 2024-12-28  88.0459000000000032\n",
       "12781 2024-12-29  88.0459000000000032\n",
       "12782 2024-12-30  88.0459000000000032\n",
       "12783 2024-12-31  88.0459000000000032\n",
       "\n",
       "[12784 rows x 2 columns]"
      ]
     },
     "execution_count": 9,
     "metadata": {},
     "output_type": "execute_result"
    }
   ],
   "source": [
    "data2interpolate"
   ]
  }
 ],
 "metadata": {
  "kernelspec": {
   "display_name": "Python 3",
   "language": "python",
   "name": "python3"
  },
  "language_info": {
   "codemirror_mode": {
    "name": "ipython",
    "version": 3
   },
   "file_extension": ".py",
   "mimetype": "text/x-python",
   "name": "python",
   "nbconvert_exporter": "python",
   "pygments_lexer": "ipython3",
   "version": "3.13.1"
  }
 },
 "nbformat": 4,
 "nbformat_minor": 2
}
