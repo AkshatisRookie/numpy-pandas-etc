{
 "cells": [
  {
   "cell_type": "code",
   "execution_count": 5,
   "metadata": {},
   "outputs": [
    {
     "name": "stdout",
     "output_type": "stream",
     "text": [
      "Index(['Date3', 'DFF'], dtype='object')\n"
     ]
    }
   ],
   "source": [
    "import pandas as pd\n",
    "import numpy as np\n",
    "data2 = pd.read_csv(\"..//raw//DFF.csv\",header=None) #relative path represented as ..\n",
    "data2.columns=['Date3','DFF']\n",
    "print(data2.columns)"
   ]
  },
  {
   "cell_type": "code",
   "execution_count": 6,
   "metadata": {},
   "outputs": [
    {
     "data": {
      "text/html": [
       "<div>\n",
       "<style scoped>\n",
       "    .dataframe tbody tr th:only-of-type {\n",
       "        vertical-align: middle;\n",
       "    }\n",
       "\n",
       "    .dataframe tbody tr th {\n",
       "        vertical-align: top;\n",
       "    }\n",
       "\n",
       "    .dataframe thead th {\n",
       "        text-align: right;\n",
       "    }\n",
       "</style>\n",
       "<table border=\"1\" class=\"dataframe\">\n",
       "  <thead>\n",
       "    <tr style=\"text-align: right;\">\n",
       "      <th></th>\n",
       "      <th>Date3</th>\n",
       "      <th>DFF</th>\n",
       "    </tr>\n",
       "  </thead>\n",
       "  <tbody>\n",
       "    <tr>\n",
       "      <th>1</th>\n",
       "      <td>1954-07-01</td>\n",
       "      <td>1.13</td>\n",
       "    </tr>\n",
       "    <tr>\n",
       "      <th>2</th>\n",
       "      <td>1954-07-02</td>\n",
       "      <td>1.25</td>\n",
       "    </tr>\n",
       "    <tr>\n",
       "      <th>3</th>\n",
       "      <td>1954-07-03</td>\n",
       "      <td>1.25</td>\n",
       "    </tr>\n",
       "    <tr>\n",
       "      <th>4</th>\n",
       "      <td>1954-07-04</td>\n",
       "      <td>1.25</td>\n",
       "    </tr>\n",
       "    <tr>\n",
       "      <th>5</th>\n",
       "      <td>1954-07-05</td>\n",
       "      <td>0.88</td>\n",
       "    </tr>\n",
       "    <tr>\n",
       "      <th>...</th>\n",
       "      <td>...</td>\n",
       "      <td>...</td>\n",
       "    </tr>\n",
       "    <tr>\n",
       "      <th>25736</th>\n",
       "      <td>2024-12-15</td>\n",
       "      <td>4.58</td>\n",
       "    </tr>\n",
       "    <tr>\n",
       "      <th>25737</th>\n",
       "      <td>2024-12-16</td>\n",
       "      <td>4.58</td>\n",
       "    </tr>\n",
       "    <tr>\n",
       "      <th>25738</th>\n",
       "      <td>2024-12-17</td>\n",
       "      <td>4.58</td>\n",
       "    </tr>\n",
       "    <tr>\n",
       "      <th>25739</th>\n",
       "      <td>2024-12-18</td>\n",
       "      <td>4.58</td>\n",
       "    </tr>\n",
       "    <tr>\n",
       "      <th>25740</th>\n",
       "      <td>2024-12-19</td>\n",
       "      <td>4.33</td>\n",
       "    </tr>\n",
       "  </tbody>\n",
       "</table>\n",
       "<p>25740 rows × 2 columns</p>\n",
       "</div>"
      ],
      "text/plain": [
       "            Date3   DFF\n",
       "1      1954-07-01  1.13\n",
       "2      1954-07-02  1.25\n",
       "3      1954-07-03  1.25\n",
       "4      1954-07-04  1.25\n",
       "5      1954-07-05  0.88\n",
       "...           ...   ...\n",
       "25736  2024-12-15  4.58\n",
       "25737  2024-12-16  4.58\n",
       "25738  2024-12-17  4.58\n",
       "25739  2024-12-18  4.58\n",
       "25740  2024-12-19  4.33\n",
       "\n",
       "[25740 rows x 2 columns]"
      ]
     },
     "execution_count": 6,
     "metadata": {},
     "output_type": "execute_result"
    }
   ],
   "source": [
    "data2=data2.drop(index=[0])\n",
    "data2"
   ]
  },
  {
   "cell_type": "code",
   "execution_count": 7,
   "metadata": {},
   "outputs": [
    {
     "name": "stdout",
     "output_type": "stream",
     "text": [
      "           index   DFF\n",
      "0     1990-01-01  7.97\n",
      "1     1990-01-02  8.54\n",
      "2     1990-01-03  8.37\n",
      "3     1990-01-04  8.29\n",
      "4     1990-01-05  8.20\n",
      "...          ...   ...\n",
      "12779 2024-12-27  4.33\n",
      "12780 2024-12-28  4.33\n",
      "12781 2024-12-29  4.33\n",
      "12782 2024-12-30  4.33\n",
      "12783 2024-12-31  4.33\n",
      "\n",
      "[12784 rows x 2 columns]\n"
     ]
    },
    {
     "name": "stderr",
     "output_type": "stream",
     "text": [
      "C:\\Users\\aksha\\AppData\\Local\\Temp\\ipykernel_18492\\2158759393.py:6: FutureWarning: Series.interpolate with object dtype is deprecated and will raise in a future version. Call obj.infer_objects(copy=False) before interpolating instead.\n",
      "  data2interpolate['DFF'] = data2interpolate['DFF'].interpolate(method='time', limit_direction='both').fillna(method='ffill').fillna(method='bfill')\n",
      "C:\\Users\\aksha\\AppData\\Local\\Temp\\ipykernel_18492\\2158759393.py:6: FutureWarning: Series.fillna with 'method' is deprecated and will raise in a future version. Use obj.ffill() or obj.bfill() instead.\n",
      "  data2interpolate['DFF'] = data2interpolate['DFF'].interpolate(method='time', limit_direction='both').fillna(method='ffill').fillna(method='bfill')\n"
     ]
    }
   ],
   "source": [
    "data2['Date3'] = pd.to_datetime(data2['Date3'])\n",
    "data2=data2.set_index('Date3')\n",
    "date_range = pd.date_range(start='1990-01-01', end='2024-12-31', freq='D')\n",
    "data2new = data2.reindex(date_range)\n",
    "data2interpolate = data2new.copy()\n",
    "data2interpolate['DFF'] = data2interpolate['DFF'].interpolate(method='time', limit_direction='both').fillna(method='ffill').fillna(method='bfill')\n",
    "data2interpolate.reset_index(inplace=True)  \n",
    "print(data2interpolate)"
   ]
  },
  {
   "cell_type": "code",
   "execution_count": 8,
   "metadata": {},
   "outputs": [],
   "source": [
    "data2interpolate.to_csv(\"DFF_quarterly.csv\", index=False)"
   ]
  },
  {
   "cell_type": "code",
   "execution_count": 9,
   "metadata": {},
   "outputs": [
    {
     "data": {
      "text/html": [
       "<div>\n",
       "<style scoped>\n",
       "    .dataframe tbody tr th:only-of-type {\n",
       "        vertical-align: middle;\n",
       "    }\n",
       "\n",
       "    .dataframe tbody tr th {\n",
       "        vertical-align: top;\n",
       "    }\n",
       "\n",
       "    .dataframe thead th {\n",
       "        text-align: right;\n",
       "    }\n",
       "</style>\n",
       "<table border=\"1\" class=\"dataframe\">\n",
       "  <thead>\n",
       "    <tr style=\"text-align: right;\">\n",
       "      <th></th>\n",
       "      <th>index</th>\n",
       "      <th>DFF</th>\n",
       "    </tr>\n",
       "  </thead>\n",
       "  <tbody>\n",
       "    <tr>\n",
       "      <th>0</th>\n",
       "      <td>1990-01-01</td>\n",
       "      <td>7.97</td>\n",
       "    </tr>\n",
       "    <tr>\n",
       "      <th>1</th>\n",
       "      <td>1990-01-02</td>\n",
       "      <td>8.54</td>\n",
       "    </tr>\n",
       "    <tr>\n",
       "      <th>2</th>\n",
       "      <td>1990-01-03</td>\n",
       "      <td>8.37</td>\n",
       "    </tr>\n",
       "    <tr>\n",
       "      <th>3</th>\n",
       "      <td>1990-01-04</td>\n",
       "      <td>8.29</td>\n",
       "    </tr>\n",
       "    <tr>\n",
       "      <th>4</th>\n",
       "      <td>1990-01-05</td>\n",
       "      <td>8.20</td>\n",
       "    </tr>\n",
       "    <tr>\n",
       "      <th>...</th>\n",
       "      <td>...</td>\n",
       "      <td>...</td>\n",
       "    </tr>\n",
       "    <tr>\n",
       "      <th>12779</th>\n",
       "      <td>2024-12-27</td>\n",
       "      <td>4.33</td>\n",
       "    </tr>\n",
       "    <tr>\n",
       "      <th>12780</th>\n",
       "      <td>2024-12-28</td>\n",
       "      <td>4.33</td>\n",
       "    </tr>\n",
       "    <tr>\n",
       "      <th>12781</th>\n",
       "      <td>2024-12-29</td>\n",
       "      <td>4.33</td>\n",
       "    </tr>\n",
       "    <tr>\n",
       "      <th>12782</th>\n",
       "      <td>2024-12-30</td>\n",
       "      <td>4.33</td>\n",
       "    </tr>\n",
       "    <tr>\n",
       "      <th>12783</th>\n",
       "      <td>2024-12-31</td>\n",
       "      <td>4.33</td>\n",
       "    </tr>\n",
       "  </tbody>\n",
       "</table>\n",
       "<p>12784 rows × 2 columns</p>\n",
       "</div>"
      ],
      "text/plain": [
       "           index   DFF\n",
       "0     1990-01-01  7.97\n",
       "1     1990-01-02  8.54\n",
       "2     1990-01-03  8.37\n",
       "3     1990-01-04  8.29\n",
       "4     1990-01-05  8.20\n",
       "...          ...   ...\n",
       "12779 2024-12-27  4.33\n",
       "12780 2024-12-28  4.33\n",
       "12781 2024-12-29  4.33\n",
       "12782 2024-12-30  4.33\n",
       "12783 2024-12-31  4.33\n",
       "\n",
       "[12784 rows x 2 columns]"
      ]
     },
     "execution_count": 9,
     "metadata": {},
     "output_type": "execute_result"
    }
   ],
   "source": [
    "data2interpolate"
   ]
  }
 ],
 "metadata": {
  "kernelspec": {
   "display_name": "Python 3",
   "language": "python",
   "name": "python3"
  },
  "language_info": {
   "codemirror_mode": {
    "name": "ipython",
    "version": 3
   },
   "file_extension": ".py",
   "mimetype": "text/x-python",
   "name": "python",
   "nbconvert_exporter": "python",
   "pygments_lexer": "ipython3",
   "version": "3.13.1"
  }
 },
 "nbformat": 4,
 "nbformat_minor": 2
}
